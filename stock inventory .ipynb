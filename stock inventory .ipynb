{
 "cells": [
  {
   "cell_type": "code",
   "execution_count": 16,
   "id": "e4a0df25",
   "metadata": {},
   "outputs": [
    {
     "name": "stdout",
     "output_type": "stream",
     "text": [
      "[{'': ''}, {'': ''}, {'': ''}, {'': ''}, {'': ''}, {'': ''}, {'': ''}, {'': ''}, {'': ''}, {'': ''}, {'': ''}, {'': ''}, {'': ''}, {'': 13}, {'': 11}, {'': 2}, {'': ''}, {'': ''}]\n"
     ]
    }
   ],
   "source": [
    "import gspread# pip install gspread\n",
    "gc = gspread.service_account (filename=\"credential.json\")\n",
    "sh = gc.open_by_key(\"19Jgb48GezrDXqkYXz_pyZ8Fh1eq7-Q8HVo_vn7khdC4\")\n",
    "worksheet= sh.sheet1\n",
    "res= worksheet.get_all_records()\n",
    "user= [\"LAPTOP\",5000,]\n",
    "worksheet.insert_row(user,4)\n",
    "res= worksheet.get_all_records()\n",
    "\n",
    "print(res)"
   ]
  },
  {
   "cell_type": "code",
   "execution_count": null,
   "id": "bc5dd03b",
   "metadata": {},
   "outputs": [],
   "source": []
  }
 ],
 "metadata": {
  "kernelspec": {
   "display_name": "Python 3",
   "language": "python",
   "name": "python3"
  },
  "language_info": {
   "codemirror_mode": {
    "name": "ipython",
    "version": 3
   },
   "file_extension": ".py",
   "mimetype": "text/x-python",
   "name": "python",
   "nbconvert_exporter": "python",
   "pygments_lexer": "ipython3",
   "version": "3.8.8"
  }
 },
 "nbformat": 4,
 "nbformat_minor": 5
}
